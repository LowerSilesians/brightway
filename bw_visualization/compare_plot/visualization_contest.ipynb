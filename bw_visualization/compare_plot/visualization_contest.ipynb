{
 "cells": [
  {
   "cell_type": "markdown",
   "id": "e612716f-70a0-4a2d-b0dd-9854a0ccf2f6",
   "metadata": {},
   "source": [
    "# *``lca_graphic``* : **A toolbox for daily LCA users**"
   ]
  },
  {
   "cell_type": "markdown",
   "id": "f2ff7e1f-8c4f-4dea-9fd5-c3d4486b2662",
   "metadata": {},
   "source": [
    "---\n",
    "\n",
    "**Purpose = to give understandable graphs for the daily LCA users to quickly analyze his LCA**\n",
    "<br>\n",
    "---\n",
    "\n",
    "**Author** : Teo Lavisse, teo.lavisse@cea.fr       \n"
   ]
  },
  {
   "cell_type": "markdown",
   "id": "a4da6a81-21ca-4635-9b8f-18d286d83e52",
   "metadata": {
    "tags": []
   },
   "source": [
    "## Initializing"
   ]
  },
  {
   "cell_type": "code",
   "execution_count": 1,
   "id": "1dd4042e-1a62-43a0-a2b9-ce24ea189760",
   "metadata": {},
   "outputs": [],
   "source": [
    "import bw2data as bd\n",
    "import bw2calc as bc\n",
    "import bw2io as bi\n",
    "import numpy as np\n",
    "import matplotlib.pyplot as plt\n",
    "from pathlib import Path\n",
    "import pandas as pd\n",
    "import json\n",
    "import os\n",
    "import matrix_utils as mu\n",
    "import bw_processing as bp\n",
    "import math\n",
    "import warnings\n",
    "import ipywidgets as widgets\n",
    "from ipywidgets import interact\n",
    "import bw2analyzer as ba\n",
    "import seaborn as sns\n",
    "import textwrap\n",
    "\n",
    "from utils import *\n",
    "from dashboards import *"
   ]
  },
  {
   "cell_type": "code",
   "execution_count": 2,
   "id": "f805dca7-63e1-4c80-931c-96b54dbfb426",
   "metadata": {},
   "outputs": [],
   "source": [
    "bd.projects.set_current(\"Visualization\")"
   ]
  },
  {
   "cell_type": "markdown",
   "id": "8c234f2f-75de-4d34-8676-12f4b7ec61db",
   "metadata": {
    "tags": []
   },
   "source": [
    "### Importing Databases"
   ]
  },
  {
   "cell_type": "code",
   "execution_count": 3,
   "id": "05568b3a-1e2b-41c7-93de-6950d51e9b5a",
   "metadata": {},
   "outputs": [
    {
     "data": {
      "text/plain": [
       "Databases dictionary with 3 object(s):\n",
       "\tUS EEIO 1.1\n",
       "\tbiosphere3\n",
       "\tecoinvent 3.9_cutoff"
      ]
     },
     "execution_count": 3,
     "metadata": {},
     "output_type": "execute_result"
    }
   ],
   "source": [
    "bd.databases\n"
   ]
  },
  {
   "cell_type": "code",
   "execution_count": 4,
   "id": "ca19dd8e-a073-4902-a3ea-b94c747751c4",
   "metadata": {},
   "outputs": [],
   "source": [
    "db_USLCI=bd.Database(\"US EEIO 1.1\")\n",
    "db_EI=bd.Database(\"ecoinvent 3.9_cutoff\")"
   ]
  },
  {
   "cell_type": "markdown",
   "id": "19e8af32-ce56-42c4-9c14-6ccc8c7fa35f",
   "metadata": {
    "tags": []
   },
   "source": [
    "###  Get activities and methods"
   ]
  },
  {
   "cell_type": "markdown",
   "id": "6af2612b-e376-4d88-844b-901bc402a531",
   "metadata": {
    "jp-MarkdownHeadingCollapsed": true,
    "tags": []
   },
   "source": [
    "#### US LCI"
   ]
  },
  {
   "cell_type": "markdown",
   "id": "acade620-4874-43e0-9437-c969e84d78e4",
   "metadata": {},
   "source": [
    "Get 2 activities and methods from the database"
   ]
  },
  {
   "cell_type": "code",
   "execution_count": 5,
   "id": "7c710767-b1f6-40db-b64d-4e0d9975e81f",
   "metadata": {},
   "outputs": [
    {
     "data": {
      "text/plain": [
       "'Metal windows, doors, and architectural products; at manufacturer' (, United States, ('31-33: Manufacturing', '3323: Architectural and Structural Metals Manufacturing'))"
      ]
     },
     "execution_count": 5,
     "metadata": {},
     "output_type": "execute_result"
    }
   ],
   "source": [
    "window_metal=next(node for node in db_USLCI if node['type'] == 'product' if node['name']==\"Metal windows, doors, and architectural products; at manufacturer\")\n",
    "window_metal"
   ]
  },
  {
   "cell_type": "code",
   "execution_count": 6,
   "id": "4bb44a27-0edd-45f0-8e72-7e4acb99deec",
   "metadata": {},
   "outputs": [
    {
     "data": {
      "text/plain": [
       "'Wooden windows, door, and flooring; at manufacturer' (, United States, ('31-33: Manufacturing', '3219: Other Wood Product Manufacturing'))"
      ]
     },
     "execution_count": 6,
     "metadata": {},
     "output_type": "execute_result"
    }
   ],
   "source": [
    "window_wood=next(node for node in db_USLCI if node['type'] == 'product' if node['name']==\"Wooden windows, door, and flooring; at manufacturer\")\n",
    "window_wood"
   ]
  },
  {
   "cell_type": "code",
   "execution_count": 7,
   "id": "f2755f87-304f-4329-98ef-336fbb928c09",
   "metadata": {},
   "outputs": [],
   "source": [
    "fu={window_metal:1,window_wood:1}"
   ]
  },
  {
   "cell_type": "code",
   "execution_count": 8,
   "id": "f2062ad7-2ed3-40ae-ba20-8ebf6051b828",
   "metadata": {},
   "outputs": [],
   "source": [
    "methods = [\n",
    "    ('Impact Potential', 'GCC'),\n",
    "    ('Impact Potential', 'HTOX'),\n",
    "    ('Resource Use', 'LAND'),\n",
    "    ('Resource Use', 'WATR'),\n",
    "]"
   ]
  },
  {
   "cell_type": "markdown",
   "id": "e54c56da-bb0d-45ee-982f-83e91a76b18b",
   "metadata": {
    "tags": []
   },
   "source": [
    "#### EI"
   ]
  },
  {
   "cell_type": "code",
   "execution_count": 9,
   "id": "932d6222-6aac-437d-aa81-0e54b5d2be71",
   "metadata": {},
   "outputs": [],
   "source": [
    "natural_gas = [act for act in db_EI if \"market for natural gas, high pressure\" in act['name'] if 'CH' in act['location'] if 'cubic meter' in act['unit']][0]"
   ]
  },
  {
   "cell_type": "code",
   "execution_count": 10,
   "id": "c9b0b7e8-17bc-4915-ac79-5b9dd37f556b",
   "metadata": {},
   "outputs": [],
   "source": [
    "biomethane = [act for act in db_EI if \"market for biomethane, high pressure\" in act['name'] if 'CH' in act['location'] if 'cubic meter' in act['unit']][0]"
   ]
  },
  {
   "cell_type": "code",
   "execution_count": 11,
   "id": "ff2ea321-0081-41fe-a94b-cbc1f229cda6",
   "metadata": {},
   "outputs": [],
   "source": [
    "fu = {natural_gas: 1, biomethane: 1}"
   ]
  },
  {
   "cell_type": "code",
   "execution_count": 12,
   "id": "c087e343-bdf9-4faa-ab5a-d47d5a8b8921",
   "metadata": {},
   "outputs": [],
   "source": [
    "CC = [method for method in bd.methods if \"IPCC 2021\" in str(method) and \"GWP100\" in str(method)][0]\n",
    "ADP = [method for method in bd.methods if \"ADP\" in str(method) if \"ultimate reserves\" in str(method) if 'EF v3.1 no LT' in str(method)][0]\n",
    "TOX = [method for method in bd.methods if \"human toxicity: carcinogenic no LT\" in str(method) if 'EF v3.1' in str(method)][0]\n",
    "LU = [method for method in bd.methods if 'land use no LT' in str(method) if 'soil quality index' in str(method) if 'EF v3.1' in str(method)][0]\n",
    "\n",
    "impact_categories = [CC, ADP, TOX, LU]"
   ]
  },
  {
   "cell_type": "code",
   "execution_count": 13,
   "id": "993fe3d3-544e-45b0-9a06-7f35799a13fd",
   "metadata": {},
   "outputs": [
    {
     "data": {
      "text/plain": [
       "[('IPCC 2021 no LT',\n",
       "  'climate change no LT',\n",
       "  'global warming potential (GWP100) no LT'),\n",
       " ('EF v3.1 no LT',\n",
       "  'material resources: metals/minerals no LT',\n",
       "  'abiotic depletion potential (ADP): elements (ultimate reserves) no LT'),\n",
       " ('EF v3.1 no LT',\n",
       "  'human toxicity: carcinogenic no LT',\n",
       "  'comparative toxic unit for human (CTUh) no LT'),\n",
       " ('EF v3.1 no LT', 'land use no LT', 'soil quality index no LT')]"
      ]
     },
     "execution_count": 13,
     "metadata": {},
     "output_type": "execute_result"
    }
   ],
   "source": [
    "impact_categories"
   ]
  },
  {
   "cell_type": "code",
   "execution_count": 14,
   "id": "b3b07fe5-e3cf-45a2-87c9-760127fd7e98",
   "metadata": {},
   "outputs": [
    {
     "data": {
      "text/plain": [
       "{'market for natural gas, high pressure' (cubic meter, CH, None): 1,\n",
       " 'market for biomethane, high pressure' (cubic meter, CH, None): 1}"
      ]
     },
     "execution_count": 14,
     "metadata": {},
     "output_type": "execute_result"
    }
   ],
   "source": [
    "fu"
   ]
  },
  {
   "cell_type": "markdown",
   "id": "b12a1acf-1ca0-487d-8cdc-cbb9c2f25877",
   "metadata": {
    "tags": []
   },
   "source": [
    "##  Perform basic lca computations"
   ]
  },
  {
   "cell_type": "code",
   "execution_count": 15,
   "id": "18a19d32-fa2d-43d9-882e-838a4a5e0a38",
   "metadata": {},
   "outputs": [
    {
     "data": {
      "text/plain": [
       "{'market for natural gas, high pressure' (cubic meter, CH, None): 1,\n",
       " 'market for biomethane, high pressure' (cubic meter, CH, None): 1}"
      ]
     },
     "execution_count": 15,
     "metadata": {},
     "output_type": "execute_result"
    }
   ],
   "source": [
    "fu"
   ]
  },
  {
   "cell_type": "code",
   "execution_count": 16,
   "id": "c97c208a-4f55-4695-a52b-d64c65d61734",
   "metadata": {},
   "outputs": [
    {
     "data": {
      "text/html": [
       "<div>\n",
       "<style scoped>\n",
       "    .dataframe tbody tr th:only-of-type {\n",
       "        vertical-align: middle;\n",
       "    }\n",
       "\n",
       "    .dataframe tbody tr th {\n",
       "        vertical-align: top;\n",
       "    }\n",
       "\n",
       "    .dataframe thead th {\n",
       "        text-align: right;\n",
       "    }\n",
       "</style>\n",
       "<table border=\"1\" class=\"dataframe\">\n",
       "  <thead>\n",
       "    <tr style=\"text-align: right;\">\n",
       "      <th></th>\n",
       "      <th>(IPCC 2021 no LT, climate change no LT, global warming potential (GWP100) no LT)</th>\n",
       "      <th>(EF v3.1 no LT, material resources: metals/minerals no LT, abiotic depletion potential (ADP): elements (ultimate reserves) no LT)</th>\n",
       "      <th>(EF v3.1 no LT, human toxicity: carcinogenic no LT, comparative toxic unit for human (CTUh) no LT)</th>\n",
       "      <th>(EF v3.1 no LT, land use no LT, soil quality index no LT)</th>\n",
       "    </tr>\n",
       "  </thead>\n",
       "  <tbody>\n",
       "    <tr>\n",
       "      <th>market for natural gas, high pressure</th>\n",
       "      <td>0.640412</td>\n",
       "      <td>6.740114e-07</td>\n",
       "      <td>3.084988e-10</td>\n",
       "      <td>0.526620</td>\n",
       "    </tr>\n",
       "    <tr>\n",
       "      <th>market for biomethane, high pressure</th>\n",
       "      <td>0.281268</td>\n",
       "      <td>2.397764e-06</td>\n",
       "      <td>1.322233e-10</td>\n",
       "      <td>3.199694</td>\n",
       "    </tr>\n",
       "  </tbody>\n",
       "</table>\n",
       "</div>"
      ],
      "text/plain": [
       "                                       (IPCC 2021 no LT, climate change no LT, global warming potential (GWP100) no LT)  \\\n",
       "market for natural gas, high pressure                                           0.640412                                  \n",
       "market for biomethane, high pressure                                            0.281268                                  \n",
       "\n",
       "                                       (EF v3.1 no LT, material resources: metals/minerals no LT, abiotic depletion potential (ADP): elements (ultimate reserves) no LT)  \\\n",
       "market for natural gas, high pressure                                       6.740114e-07                                                                                   \n",
       "market for biomethane, high pressure                                        2.397764e-06                                                                                   \n",
       "\n",
       "                                       (EF v3.1 no LT, human toxicity: carcinogenic no LT, comparative toxic unit for human (CTUh) no LT)  \\\n",
       "market for natural gas, high pressure                                       3.084988e-10                                                    \n",
       "market for biomethane, high pressure                                        1.322233e-10                                                    \n",
       "\n",
       "                                       (EF v3.1 no LT, land use no LT, soil quality index no LT)  \n",
       "market for natural gas, high pressure                                           0.526620          \n",
       "market for biomethane, high pressure                                            3.199694          "
      ]
     },
     "execution_count": 16,
     "metadata": {},
     "output_type": "execute_result"
    }
   ],
   "source": [
    "df=lca_comparison(fu, impact_categories)\n",
    "df"
   ]
  },
  {
   "cell_type": "code",
   "execution_count": 17,
   "id": "54eb5447-c6b4-41fa-8167-dc033ebf9a65",
   "metadata": {},
   "outputs": [
    {
     "data": {
      "text/html": [
       "<div>\n",
       "<style scoped>\n",
       "    .dataframe tbody tr th:only-of-type {\n",
       "        vertical-align: middle;\n",
       "    }\n",
       "\n",
       "    .dataframe tbody tr th {\n",
       "        vertical-align: top;\n",
       "    }\n",
       "\n",
       "    .dataframe thead th {\n",
       "        text-align: right;\n",
       "    }\n",
       "</style>\n",
       "<table border=\"1\" class=\"dataframe\">\n",
       "  <thead>\n",
       "    <tr style=\"text-align: right;\">\n",
       "      <th></th>\n",
       "      <th>market for natural gas, high pressure</th>\n",
       "      <th>market for biomethane, high pressure</th>\n",
       "    </tr>\n",
       "  </thead>\n",
       "  <tbody>\n",
       "    <tr>\n",
       "      <th>(IPCC 2021 no LT, climate change no LT, global warming potential (GWP100) no LT)</th>\n",
       "      <td>100.000000</td>\n",
       "      <td>43.919753</td>\n",
       "    </tr>\n",
       "    <tr>\n",
       "      <th>(EF v3.1 no LT, material resources: metals/minerals no LT, abiotic depletion potential (ADP): elements (ultimate reserves) no LT)</th>\n",
       "      <td>28.110001</td>\n",
       "      <td>100.000000</td>\n",
       "    </tr>\n",
       "    <tr>\n",
       "      <th>(EF v3.1 no LT, human toxicity: carcinogenic no LT, comparative toxic unit for human (CTUh) no LT)</th>\n",
       "      <td>100.000000</td>\n",
       "      <td>42.860234</td>\n",
       "    </tr>\n",
       "    <tr>\n",
       "      <th>(EF v3.1 no LT, land use no LT, soil quality index no LT)</th>\n",
       "      <td>16.458453</td>\n",
       "      <td>100.000000</td>\n",
       "    </tr>\n",
       "  </tbody>\n",
       "</table>\n",
       "</div>"
      ],
      "text/plain": [
       "                                                    market for natural gas, high pressure  \\\n",
       "(IPCC 2021 no LT, climate change no LT, global ...                             100.000000   \n",
       "(EF v3.1 no LT, material resources: metals/mine...                              28.110001   \n",
       "(EF v3.1 no LT, human toxicity: carcinogenic no...                             100.000000   \n",
       "(EF v3.1 no LT, land use no LT, soil quality in...                              16.458453   \n",
       "\n",
       "                                                    market for biomethane, high pressure  \n",
       "(IPCC 2021 no LT, climate change no LT, global ...                             43.919753  \n",
       "(EF v3.1 no LT, material resources: metals/mine...                            100.000000  \n",
       "(EF v3.1 no LT, human toxicity: carcinogenic no...                             42.860234  \n",
       "(EF v3.1 no LT, land use no LT, soil quality in...                            100.000000  "
      ]
     },
     "execution_count": 17,
     "metadata": {},
     "output_type": "execute_result"
    }
   ],
   "source": [
    "df_norm=df.T.apply(lambda x: x/x.max(), axis=1)*100 #to normalize the results for each impact category\n",
    "df_norm"
   ]
  },
  {
   "cell_type": "markdown",
   "id": "b11d3183-c4f7-4ed4-8b69-ec1a7e2fd8d8",
   "metadata": {
    "tags": []
   },
   "source": [
    "## Perform a basic contribution analysis"
   ]
  },
  {
   "cell_type": "code",
   "execution_count": 18,
   "id": "d1afc24e-8c24-4235-9232-b5576ecd7a2c",
   "metadata": {},
   "outputs": [
    {
     "data": {
      "text/plain": [
       "'market for natural gas, high pressure' (cubic meter, CH, None)"
      ]
     },
     "execution_count": 18,
     "metadata": {},
     "output_type": "execute_result"
    }
   ],
   "source": [
    "act_topscore(fu, CC)"
   ]
  },
  {
   "cell_type": "code",
   "execution_count": 19,
   "id": "6eb97725-eb85-407a-97cf-44ac2a464d40",
   "metadata": {},
   "outputs": [
    {
     "data": {
      "text/html": [
       "<div>\n",
       "<style scoped>\n",
       "    .dataframe tbody tr th:only-of-type {\n",
       "        vertical-align: middle;\n",
       "    }\n",
       "\n",
       "    .dataframe tbody tr th {\n",
       "        vertical-align: top;\n",
       "    }\n",
       "\n",
       "    .dataframe thead th {\n",
       "        text-align: right;\n",
       "    }\n",
       "</style>\n",
       "<table border=\"1\" class=\"dataframe\">\n",
       "  <thead>\n",
       "    <tr style=\"text-align: right;\">\n",
       "      <th></th>\n",
       "      <th>(IPCC 2021 no LT, climate change no LT, global warming potential (GWP100) no LT)</th>\n",
       "    </tr>\n",
       "  </thead>\n",
       "  <tbody>\n",
       "    <tr>\n",
       "      <th>5bd4d1d3ea2ad8b6f9288db105968f92</th>\n",
       "      <td>3.524154</td>\n",
       "    </tr>\n",
       "    <tr>\n",
       "      <th>c82d278ad302ca45c2345063cdce422d</th>\n",
       "      <td>5.797948</td>\n",
       "    </tr>\n",
       "    <tr>\n",
       "      <th>e413022065fd99c773b8664679178c5f</th>\n",
       "      <td>11.028949</td>\n",
       "    </tr>\n",
       "    <tr>\n",
       "      <th>91c36ddeefe08ea0d677c17707cd15ab</th>\n",
       "      <td>12.690830</td>\n",
       "    </tr>\n",
       "    <tr>\n",
       "      <th>Others</th>\n",
       "      <td>29.393422</td>\n",
       "    </tr>\n",
       "    <tr>\n",
       "      <th>45dcb00f3f53f203d47028257b0d747d</th>\n",
       "      <td>37.564699</td>\n",
       "    </tr>\n",
       "  </tbody>\n",
       "</table>\n",
       "</div>"
      ],
      "text/plain": [
       "                                  (IPCC 2021 no LT, climate change no LT, global warming potential (GWP100) no LT)\n",
       "5bd4d1d3ea2ad8b6f9288db105968f92                                           3.524154                               \n",
       "c82d278ad302ca45c2345063cdce422d                                           5.797948                               \n",
       "e413022065fd99c773b8664679178c5f                                          11.028949                               \n",
       "91c36ddeefe08ea0d677c17707cd15ab                                          12.690830                               \n",
       "Others                                                                    29.393422                               \n",
       "45dcb00f3f53f203d47028257b0d747d                                          37.564699                               "
      ]
     },
     "execution_count": 19,
     "metadata": {},
     "output_type": "execute_result"
    }
   ],
   "source": [
    "df=contributions_df(biomethane,CC,limit=5,limit_type='number',norm=True, group_by_other=True)\n",
    "df"
   ]
  },
  {
   "cell_type": "markdown",
   "id": "a7524732-b07b-49e8-a421-25d0e443f114",
   "metadata": {},
   "source": [
    "## Display all thes informations in a nice dashboard"
   ]
  },
  {
   "cell_type": "markdown",
   "id": "e2e88f64-9513-4349-b712-ffe976f6326b",
   "metadata": {
    "tags": []
   },
   "source": [
    "### Defining colors"
   ]
  },
  {
   "cell_type": "code",
   "execution_count": 20,
   "id": "025a2537-7388-48b9-b3d1-7d9e2670eaaf",
   "metadata": {},
   "outputs": [],
   "source": [
    "#define standard color palette:\n",
    "colors = [\"#F08C2E\", \"#7f6000\", \"#72AF42\", \"#A32683\"]\n",
    "\n",
    "#create longer color list for complex figures\n",
    "color_div_YlBr=sns.color_palette('YlOrBr',6)\n",
    "color_seq_green=sns.color_palette('Greens',6)\n",
    "color_seq_RdPu=sns.color_palette('RdPu',6)\n",
    "color_seq_org=sns.color_palette('Oranges',5)\n",
    "\n",
    "colors.extend(colors)\n",
    "# colors.extend(color_div_YlBr)\n",
    "# colors.extend(color_seq_green)\n",
    "# colors.extend(color_seq_RdPu)\n",
    "# colors.extend(color_seq_org)\n",
    "\n",
    "df_color=pd.DataFrame(index=impact_categories,data=[colors[c] for c in range(len(impact_categories))]).T"
   ]
  },
  {
   "cell_type": "markdown",
   "id": "ed2ef574-052c-479d-abe2-dbeed35be06e",
   "metadata": {
    "tags": []
   },
   "source": [
    "### Dashboard compare"
   ]
  },
  {
   "cell_type": "code",
   "execution_count": 21,
   "id": "7f709172-b208-44ea-9cd5-d7eea7b920b9",
   "metadata": {},
   "outputs": [
    {
     "data": {
      "application/vnd.jupyter.widget-view+json": {
       "model_id": "bfa9aa8a79e245d09438c08d647e8cd2",
       "version_major": 2,
       "version_minor": 0
      },
      "text/plain": [
       "Tab(children=(Output(), Output()), selected_index=0, titles=('Reference indicator', 'All indicators'))"
      ]
     },
     "metadata": {},
     "output_type": "display_data"
    }
   ],
   "source": [
    "compare(fu, impact_categories, sharex=False, cols=2, func_unit=\"cubic meter\")"
   ]
  },
  {
   "cell_type": "markdown",
   "id": "04030ddb-8a71-4ffd-bbb5-9837518fa0cb",
   "metadata": {
    "tags": []
   },
   "source": [
    "### Dashboard hotspots"
   ]
  },
  {
   "cell_type": "code",
   "execution_count": 22,
   "id": "8298689f-097b-494b-b29c-4f97f19f1f8f",
   "metadata": {},
   "outputs": [
    {
     "data": {
      "application/vnd.jupyter.widget-view+json": {
       "model_id": "6a67b8b0dbaa45cea9ad0688c5f1b571",
       "version_major": 2,
       "version_minor": 0
      },
      "text/plain": [
       "Tab(children=(Output(), Output(), Output(), Output()), selected_index=0, titles=('on climate change no LT', 'o…"
      ]
     },
     "metadata": {},
     "output_type": "display_data"
    },
    {
     "data": {
      "application/vnd.jupyter.widget-view+json": {
       "model_id": "0e2534717bf1451db0b23f82a41bafa8",
       "version_major": 2,
       "version_minor": 0
      },
      "text/plain": [
       "Tab(children=(Output(), Output(), Output(), Output()), selected_index=0, titles=('on climate change no LT', 'o…"
      ]
     },
     "metadata": {},
     "output_type": "display_data"
    }
   ],
   "source": [
    "hotspots(fu, impact_categories, limit=0.05)"
   ]
  },
  {
   "cell_type": "markdown",
   "id": "dd9554c2-4955-437b-99a5-c26d4becc7b0",
   "metadata": {
    "tags": []
   },
   "source": [
    "### Dashboard impact_transfer"
   ]
  },
  {
   "cell_type": "code",
   "execution_count": 23,
   "id": "d5df430f-2d2a-4cd9-96d2-9c11a38a40c1",
   "metadata": {},
   "outputs": [
    {
     "data": {
      "application/vnd.jupyter.widget-view+json": {
       "model_id": "327023042d084d368f3404be66ab6fb6",
       "version_major": 2,
       "version_minor": 0
      },
      "text/plain": [
       "Tab(children=(Output(), Output(), Output(), Output()), selected_index=0, titles=('Impact transfer', 'Heatmap',…"
      ]
     },
     "metadata": {},
     "output_type": "display_data"
    }
   ],
   "source": [
    "impact_transfer(fu, impact_categories, reference_category=CC, limit=5, cols=2, func_unit=\"cubic meter\")"
   ]
  },
  {
   "cell_type": "markdown",
   "id": "b7830bec-54d8-43af-bb14-760ea13645e6",
   "metadata": {
    "tags": []
   },
   "source": [
    "## Generic function : lca_graphic"
   ]
  },
  {
   "cell_type": "code",
   "execution_count": 27,
   "id": "e9ed3aa8-0707-4117-a611-491ba2292585",
   "metadata": {},
   "outputs": [
    {
     "data": {
      "application/vnd.jupyter.widget-view+json": {
       "model_id": "104042b6adfa40cbaff914b12c9ee7b6",
       "version_major": 2,
       "version_minor": 0
      },
      "text/plain": [
       "Tab(children=(Output(), Output()), selected_index=0, titles=('Reference indicator', 'All indicators'))"
      ]
     },
     "metadata": {},
     "output_type": "display_data"
    },
    {
     "data": {
      "application/vnd.jupyter.widget-view+json": {
       "model_id": "f45d2f9941ab46c594e4171cd6355915",
       "version_major": 2,
       "version_minor": 0
      },
      "text/plain": [
       "Tab(children=(Output(), Output(), Output(), Output()), selected_index=0, titles=('Impact transfer', 'Heatmap',…"
      ]
     },
     "metadata": {},
     "output_type": "display_data"
    },
    {
     "data": {
      "application/vnd.jupyter.widget-view+json": {
       "model_id": "1526e6c0d5d44a89a906487972712c02",
       "version_major": 2,
       "version_minor": 0
      },
      "text/plain": [
       "Tab(children=(Output(), Output(), Output(), Output()), selected_index=0, titles=('on climate change no LT', 'o…"
      ]
     },
     "metadata": {},
     "output_type": "display_data"
    },
    {
     "data": {
      "application/vnd.jupyter.widget-view+json": {
       "model_id": "8ca4d7c3d14247a39851c364c4d20f78",
       "version_major": 2,
       "version_minor": 0
      },
      "text/plain": [
       "Tab(children=(Output(), Output(), Output(), Output()), selected_index=0, titles=('on climate change no LT', 'o…"
      ]
     },
     "metadata": {},
     "output_type": "display_data"
    }
   ],
   "source": [
    "lca_graphic(fu, impact_categories)"
   ]
  }
 ],
 "metadata": {
  "kernelspec": {
   "display_name": "Python 3 (ipykernel)",
   "language": "python",
   "name": "python3"
  },
  "language_info": {
   "codemirror_mode": {
    "name": "ipython",
    "version": 3
   },
   "file_extension": ".py",
   "mimetype": "text/x-python",
   "name": "python",
   "nbconvert_exporter": "python",
   "pygments_lexer": "ipython3",
   "version": "3.11.0"
  },
  "vscode": {
   "interpreter": {
    "hash": "5f417be04f91f0718b989f3234292f09cafb7263a3fd4fa9e204297b1fa5cd6f"
   }
  }
 },
 "nbformat": 4,
 "nbformat_minor": 5
}
